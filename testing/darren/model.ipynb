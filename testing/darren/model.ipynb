{
 "cells": [
  {
   "attachments": {},
   "cell_type": "markdown",
   "metadata": {},
   "source": [
    "### Imports"
   ]
  },
  {
   "cell_type": "code",
   "execution_count": 457,
   "metadata": {},
   "outputs": [],
   "source": [
    "from backtesting.test import EURUSD, GOOG\n",
    "\n"
   ]
  },
  {
   "attachments": {},
   "cell_type": "markdown",
   "metadata": {},
   "source": [
    "### Process parquet"
   ]
  },
  {
   "cell_type": "code",
   "execution_count": 458,
   "metadata": {},
   "outputs": [
    {
     "name": "stderr",
     "output_type": "stream",
     "text": [
      "/tmp/ipykernel_81488/3887751971.py:15: FutureWarning: Passing 'use_legacy_dataset=True' to get the legacy behaviour is deprecated as of pyarrow 11.0.0, and the legacy implementation will be removed in a future version.\n",
      "  dataset = pq.ParquetDataset(data_path, filters=list(zip(partition, operator, params)), use_legacy_dataset=True)\n"
     ]
    }
   ],
   "source": [
    "import pandas as pd\n",
    "import pyarrow.parquet as pq\n",
    "\n",
    "DATA_PATH='/home/darrendube/Documents/spatialedge-hackathon-H1/v1/' \n",
    "FROM_DATE='20100101'\n",
    "TO_DATE='20221231'\n",
    "SYMBOL = 'EURCAD'\n",
    "TIMEFRAME = 'H1'\n",
    "\n",
    "def read_and_process_parquet(data_path, from_date, to_date, symbol, timeframe):\n",
    "    partition = ['symbol','timeframe', 'date', 'date']\n",
    "    operator = ['=', '=', '>=', '<=']\n",
    "    params = [symbol, timeframe, from_date, to_date]\n",
    "            \n",
    "    dataset = pq.ParquetDataset(data_path, filters=list(zip(partition, operator, params)), use_legacy_dataset=True)\n",
    "    table = dataset.read()\n",
    "    df = table.to_pandas()\n",
    "\n",
    "    df['date'] = df['date'].astype(str)\n",
    "    df['time'] = df['time'].astype(str)\n",
    "\n",
    "    df['datetime'] = df['date'] + ' ' + df['time']\n",
    "    df['datetime'] = pd.to_datetime(df['datetime'], format='%Y%m%d %H:%M:%S')\n",
    "    df.set_index('datetime', inplace=True)\n",
    "\n",
    "    df.drop(['time', 'symbol', 'timeframe', 'date'], axis=1, inplace=True)\n",
    "    df = df.sort_values('datetime')\n",
    "    df.fillna(method='ffill', inplace=True)\n",
    "\n",
    "    return df \n",
    "\n",
    "df = read_and_process_parquet(DATA_PATH, FROM_DATE, TO_DATE, SYMBOL, TIMEFRAME)"
   ]
  },
  {
   "attachments": {},
   "cell_type": "markdown",
   "metadata": {},
   "source": [
    "### Create helper functions"
   ]
  },
  {
   "cell_type": "code",
   "execution_count": 459,
   "metadata": {},
   "outputs": [],
   "source": [
    "data = EURUSD.copy()\n",
    "\n",
    "# Relative Strength Index (RSI)\n",
    "close = data.Close.values\n",
    "\n",
    "\n",
    "def RSI(values, period=168):\n",
    "    delta = pd.Series(values).diff()\n",
    "    gain = delta.where(delta>0.0)\n",
    "    #gain.fillna(0, inplace=True) \n",
    "    loss = -delta.where(delta<0.0)\n",
    "    #loss.fillna(0, inplace=True) #TODO: instead of replacing with 0, remove those vaues\n",
    "    loss\n",
    "    avg_gain = gain.rolling(period, min_periods=1).mean() # average gain over 7 day period (168hr) \n",
    "    avg_gain.fillna(0, inplace=True)\n",
    "    avg_loss = loss.rolling(period, min_periods=1).mean() # average loss over 7 day period (168hr)\n",
    "    avg_loss.fillna(0.000000001, inplace=True)\n",
    "    rs = (avg_gain/avg_loss)\n",
    "    rsi = 100-(100/(1+rs))\n",
    "   \n",
    "    return rsi\n",
    "\n",
    "def SMA(values, n):\n",
    "    \n",
    "    \"\"\"\n",
    "    Return simple moving average of `values`, at\n",
    "    each step taking into account `n` previous values.\n",
    "    \"\"\"\n",
    "    return pd.Series(values).rolling(n).mean()\n",
    "\n",
    "def Stochastic_Oscillator(values, period=168):\n",
    "    '''Calculates stochastic oscillator'''\n",
    "    time_period = period\n",
    "    data = pd.Series(values)\n",
    "    if len(values) < time_period:\n",
    "        time_period = len(values)\n",
    "    lowest_close_in_period = data.rolling(time_period, min_periods=1).min()\n",
    "    highest_close_in_period = data.rolling(time_period, min_periods=1).max()\n",
    "    so = ((data-lowest_close_in_period)/(highest_close_in_period-lowest_close_in_period))*100\n",
    "    return so\n"
   ]
  },
  {
   "cell_type": "code",
   "execution_count": 460,
   "metadata": {},
   "outputs": [
    {
     "data": {
      "text/plain": [
       "0              NaN\n",
       "1       100.000000\n",
       "2         0.000000\n",
       "3        14.705882\n",
       "4         0.000000\n",
       "           ...    \n",
       "4995      7.670773\n",
       "4996      3.247480\n",
       "4997      0.447928\n",
       "4998      3.471445\n",
       "4999      0.000000\n",
       "Length: 5000, dtype: float64"
      ]
     },
     "execution_count": 460,
     "metadata": {},
     "output_type": "execute_result"
    }
   ],
   "source": [
    "Stochastic_Oscillator(data.Close.values)\n"
   ]
  },
  {
   "attachments": {},
   "cell_type": "markdown",
   "metadata": {},
   "source": [
    "### Strategy based on Relative Strength Index"
   ]
  },
  {
   "cell_type": "code",
   "execution_count": 461,
   "metadata": {},
   "outputs": [],
   "source": [
    "from backtesting import Strategy, Backtest\n",
    "from backtesting.lib import crossover\n",
    "\n",
    "    \n",
    "class RulesBasedStrategy(Strategy):\n",
    "    # TODO: add rules based\n",
    "    # The SMA periods\n",
    "    n1 = 10\n",
    "    n2 = 20\n",
    "\n",
    "    def init(self):\n",
    "        self.sma1 = self.I(SMA, self.data.Close, self.n1)\n",
    "        self.sma2 = self.I(SMA, self.data.Close, self.n2)\n",
    "        self.rsi = self.I(RSI, self.data.Close, 23) # Calculate 1 day rsi\n",
    "        self.stochastic_oscillator = self.I(Stochastic_Oscillator, self.data.Close, 168)\n",
    "\n",
    "    def next(self):\n",
    "        # If all indicators say you should buy, buy\n",
    "        if self.rsi < 30 or self.stochastic_oscillator< 20 or crossover(self.sma1, self.sma2):\n",
    "            self.position.close()\n",
    "            self.buy()\n",
    "        \n",
    "        # If all indicators say you should sell, sell\n",
    "        elif self.rsi > 70 or self.stochastic_oscillator > 80 or crossover(self.sma2, self.sma1):\n",
    "            self.position.close()\n",
    "            self.sell()\n",
    "        \n",
    "\n",
    "        "
   ]
  },
  {
   "attachments": {},
   "cell_type": "markdown",
   "metadata": {},
   "source": [
    "### Backtest"
   ]
  },
  {
   "cell_type": "code",
   "execution_count": 462,
   "metadata": {},
   "outputs": [
    {
     "data": {
      "text/plain": [
       "Start                     2010-01-03 22:00:00\n",
       "End                       2022-12-30 21:00:00\n",
       "Duration                   4743 days 23:00:00\n",
       "Exposure Time [%]                   99.973407\n",
       "Equity Final [$]                1006352.12422\n",
       "Equity Peak [$]                 1336970.34243\n",
       "Return [%]                           0.635212\n",
       "Buy & Hold Return [%]                -3.28905\n",
       "Return (Ann.) [%]                    0.040323\n",
       "Volatility (Ann.) [%]                  8.2382\n",
       "Sharpe Ratio                         0.004895\n",
       "Sortino Ratio                        0.006769\n",
       "Calmar Ratio                         0.001129\n",
       "Max. Drawdown [%]                   -35.71378\n",
       "Avg. Drawdown [%]                   -0.894222\n",
       "Max. Drawdown Duration     4337 days 08:00:00\n",
       "Avg. Drawdown Duration       39 days 12:00:00\n",
       "# Trades                                 4390\n",
       "Win Rate [%]                        37.790433\n",
       "Best Trade [%]                       5.827798\n",
       "Worst Trade [%]                     -4.120228\n",
       "Avg. Trade [%]                       0.000144\n",
       "Max. Trade Duration          69 days 23:00:00\n",
       "Avg. Trade Duration           1 days 02:00:00\n",
       "Profit Factor                        1.008714\n",
       "Expectancy [%]                       0.001329\n",
       "SQN                                  0.018174\n",
       "_strategy                  RulesBasedStrategy\n",
       "_equity_curve                             ...\n",
       "_trades                           Size  En...\n",
       "dtype: object"
      ]
     },
     "execution_count": 462,
     "metadata": {},
     "output_type": "execute_result"
    }
   ],
   "source": [
    "df.columns = ['Open','High','Low','Close', 'Volume']\n",
    "bt = Backtest(df, RulesBasedStrategy, cash=1000000, commission=0.000)\n",
    "stats = bt.run()\n",
    "stats\n",
    "#bt.plot()"
   ]
  },
  {
   "cell_type": "code",
   "execution_count": null,
   "metadata": {},
   "outputs": [],
   "source": []
  },
  {
   "cell_type": "code",
   "execution_count": null,
   "metadata": {},
   "outputs": [],
   "source": []
  }
 ],
 "metadata": {
  "kernelspec": {
   "display_name": "Python 3",
   "language": "python",
   "name": "python3"
  },
  "language_info": {
   "codemirror_mode": {
    "name": "ipython",
    "version": 3
   },
   "file_extension": ".py",
   "mimetype": "text/x-python",
   "name": "python",
   "nbconvert_exporter": "python",
   "pygments_lexer": "ipython3",
   "version": "3.10.12"
  },
  "orig_nbformat": 4
 },
 "nbformat": 4,
 "nbformat_minor": 2
}
