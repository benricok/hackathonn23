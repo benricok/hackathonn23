{
 "cells": [
  {
   "cell_type": "markdown",
   "metadata": {},
   "source": [
    "# sentiment anaylis"
   ]
  },
  {
   "cell_type": "markdown",
   "metadata": {},
   "source": [
    "### Import datasets"
   ]
  },
  {
   "cell_type": "code",
   "execution_count": 4,
   "metadata": {},
   "outputs": [
    {
     "name": "stdout",
     "output_type": "stream",
     "text": [
      "                                                   text    labels  \\\n",
      "2995  'Derogatory' Files Ended Service Of 383 U. S. ...  negative   \n",
      "2996  Treasury Securities Are Becalmed: Investors Aw...  negative   \n",
      "2997  SENATE TEST WON BY RIGHTS FORCES: PANEL VOTES ...  negative   \n",
      "2998  FARMERS PUNISHED IN WETBACK' DRIVE: SOME PERMI...  negative   \n",
      "2999  EXECUTIVE HIRING EXPECTED TO RISE: STUDY SHOWS...  positive   \n",
      "\n",
      "          articleid relevance positivity  split positivity_rounded   idx  \n",
      "2995  nyt_113139986       yes        2.0  train                2.0  2995  \n",
      "2996  nyt_108972463       yes        4.0  train                4.0  2996  \n",
      "2997  nyt_119217245       yes        4.0  train                4.0  2997  \n",
      "2998  nyt_112200942       yes        4.0  train                4.0  2998  \n",
      "2999  nyt_119481498       yes        6.5  train                6.0  2999  \n",
      "<class 'pandas.core.frame.DataFrame'>\n",
      "RangeIndex: 3000 entries, 0 to 2999\n",
      "Data columns (total 8 columns):\n",
      " #   Column              Non-Null Count  Dtype \n",
      "---  ------              --------------  ----- \n",
      " 0   text                3000 non-null   object\n",
      " 1   labels              3000 non-null   object\n",
      " 2   articleid           3000 non-null   object\n",
      " 3   relevance           3000 non-null   object\n",
      " 4   positivity          3000 non-null   object\n",
      " 5   split               3000 non-null   object\n",
      " 6   positivity_rounded  3000 non-null   object\n",
      " 7   idx                 3000 non-null   int64 \n",
      "dtypes: int64(1), object(7)\n",
      "memory usage: 187.6+ KB\n",
      "None\n",
      "                                                  text    labels  \\\n",
      "377  The School Auction As Economic Indicator: In G...  negative   \n",
      "378  INFLATION FEARS PUMMEL STOCKS; NEW LOWS FOR '0...  negative   \n",
      "379  THE MARKETS: STOCKS & BONDS Fed Chief's Remark...  positive   \n",
      "380  THE MARKETS: Shares End a Positive First Quart...  positive   \n",
      "381  Freakoutonomics. E month saw one of the sharpe...  positive   \n",
      "\n",
      "        articleid relevance positivity split positivity_rounded   idx  \n",
      "377  nyt_92910828       nan   negative  test                nan  3377  \n",
      "378  nyt_92949405       nan   negative  test                nan  3378  \n",
      "379  nyt_93123524       nan   positive  test                nan  3379  \n",
      "380  nyt_93150693       nan   positive  test                nan  3380  \n",
      "381  nyt_93195697       nan   positive  test                nan  3381  \n",
      "<class 'pandas.core.frame.DataFrame'>\n",
      "RangeIndex: 382 entries, 0 to 381\n",
      "Data columns (total 8 columns):\n",
      " #   Column              Non-Null Count  Dtype \n",
      "---  ------              --------------  ----- \n",
      " 0   text                382 non-null    object\n",
      " 1   labels              382 non-null    object\n",
      " 2   articleid           382 non-null    object\n",
      " 3   relevance           382 non-null    object\n",
      " 4   positivity          382 non-null    object\n",
      " 5   split               382 non-null    object\n",
      " 6   positivity_rounded  382 non-null    object\n",
      " 7   idx                 382 non-null    int64 \n",
      "dtypes: int64(1), object(7)\n",
      "memory usage: 24.0+ KB\n",
      "None\n"
     ]
    }
   ],
   "source": [
    "import pandas as pd\n",
    "\n",
    "DATASETS = '~/datasets/sentiment_economy_news/'\n",
    "\n",
    "train = pd.read_parquet(DATASETS + 'train.parquet', engine='pyarrow')\n",
    "test  = pd.read_parquet(DATASETS + 'test.parquet', engine='pyarrow')\n",
    "\n",
    "print(train.tail())\n",
    "print(train.info())\n",
    "\n",
    "print(test.tail())\n",
    "print(test.info())"
   ]
  },
  {
   "cell_type": "code",
   "execution_count": 20,
   "metadata": {},
   "outputs": [
    {
     "name": "stdout",
     "output_type": "stream",
     "text": [
      "['positive', 'negative', 'negative', 'negative', 'negative', ..., 'negative', 'negative', 'negative', 'negative', 'positive']\n",
      "Length: 3000\n",
      "Categories (2, object): ['negative', 'positive']\n"
     ]
    }
   ],
   "source": [
    "X_train = train['text'].copy()\n",
    "Y_train = pd.Categorical(train['labels'])\n",
    "print(X_train)"
   ]
  },
  {
   "cell_type": "markdown",
   "metadata": {},
   "source": [
    "### Create Classifier model"
   ]
  },
  {
   "cell_type": "code",
   "execution_count": 14,
   "metadata": {},
   "outputs": [
    {
     "name": "stdout",
     "output_type": "stream",
     "text": [
      "(3000, 30859)\n",
      "24813\n"
     ]
    }
   ],
   "source": [
    "from sklearn.feature_extraction.text import CountVectorizer\n",
    "\n",
    "vectorizer = CountVectorizer()\n",
    "\n",
    "X_train_tokens = vectorizer.fit_transform(train[\"text\"])\n",
    "\n",
    "print(X_train_tokens.shape)\n",
    "\n",
    "print(vectorizer.vocabulary_.get(u'service'))"
   ]
  },
  {
   "cell_type": "code",
   "execution_count": 21,
   "metadata": {},
   "outputs": [
    {
     "name": "stdout",
     "output_type": "stream",
     "text": [
      "(3000, 30859)\n"
     ]
    }
   ],
   "source": [
    "from sklearn.feature_extraction.text import TfidfTransformer\n",
    "\n",
    "transformer = TfidfTransformer()\n",
    "\n",
    "X_train_tf = transformer.fit_transform(X_train_tokens)\n",
    "\n",
    "print(X_train_tf.shape)"
   ]
  },
  {
   "cell_type": "code",
   "execution_count": 46,
   "metadata": {},
   "outputs": [
    {
     "name": "stdout",
     "output_type": "stream",
     "text": [
      "['positive', 'negative', 'negative', 'negative', 'negative', ..., 'negative', 'negative', 'negative', 'negative', 'positive']\n",
      "Length: 3000\n",
      "Categories (2, object): ['negative', 'positive']\n"
     ]
    }
   ],
   "source": [
    "from sklearn.naive_bayes import GaussianNB\n",
    "\n",
    "Y_train = pd.Categorical(train['labels'])\n",
    "\n",
    "print(Y_train)\n",
    "\n",
    "clf = GaussianNB().fit(X_train_tf.toarray(), Y_train)"
   ]
  },
  {
   "cell_type": "code",
   "execution_count": 48,
   "metadata": {},
   "outputs": [
    {
     "name": "stdout",
     "output_type": "stream",
     "text": [
      "              precision    recall  f1-score   support\n",
      "\n",
      "    negative       0.62      0.78      0.69       241\n",
      "    positive       0.34      0.19      0.24       141\n",
      "\n",
      "    accuracy                           0.56       382\n",
      "   macro avg       0.48      0.49      0.47       382\n",
      "weighted avg       0.52      0.56      0.53       382\n",
      "\n"
     ]
    }
   ],
   "source": [
    "from sklearn.metrics import classification_report\n",
    "\n",
    "X_test_tokens = vectorizer.transform(test['text'])\n",
    "X_test_tf = transformer.transform(X_test_tokens)\n",
    "\n",
    "#print(test['text'])\n",
    "# print(X_test_tf)\n",
    "\n",
    "predicted = clf.predict(X_test_tf.toarray())\n",
    "\n",
    "labels = Y_train.categories\n",
    "\n",
    "Y_test = pd.Categorical(test['labels'])\n",
    "\n",
    "print(classification_report(Y_test, predicted, target_names=labels))"
   ]
  },
  {
   "cell_type": "code",
   "execution_count": 49,
   "metadata": {},
   "outputs": [
    {
     "data": {
      "image/png": "[encoded data removed]",
      "text/plain": [
       "<Figure size 640x480 with 1 Axes>"
      ]
     },
     "metadata": {},
     "output_type": "display_data"
    }
   ],
   "source": [
    "import matplotlib.pyplot as plt \n",
    "from collections import Counter\n",
    "\n",
    "label_counts = Counter(predicted)\n",
    "\n",
    "# Extract labels and counts as separate lists\n",
    "labels = list(label_counts.keys())\n",
    "counts = list(label_counts.values())\n",
    "\n",
    "# Create a bar chart\n",
    "plt.bar(labels, counts)\n",
    "plt.xlabel('Predicted Labels')\n",
    "plt.ylabel('Count')\n",
    "plt.title('Predicted Label Counts')\n",
    "plt.xticks(rotation=45)  # Rotate x-axis labels for better readability\n",
    "plt.show()"
   ]
  }
 ],
 "metadata": {
  "kernelspec": {
   "display_name": "Python 3",
   "language": "python",
   "name": "python3"
  },
  "language_info": {
   "codemirror_mode": {
    "name": "ipython",
    "version": 3
   },
   "file_extension": ".py",
   "mimetype": "text/x-python",
   "name": "python",
   "nbconvert_exporter": "python",
   "pygments_lexer": "ipython3",
   "version": "3.11.2"
  },
  "orig_nbformat": 4
 },
 "nbformat": 4,
 "nbformat_minor": 2
}
