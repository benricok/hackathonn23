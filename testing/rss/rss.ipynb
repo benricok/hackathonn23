{
 "cells": [
  {
   "cell_type": "markdown",
   "metadata": {},
   "source": [
    "# RSS"
   ]
  },
  {
   "cell_type": "code",
   "execution_count": 1,
   "metadata": {},
   "outputs": [],
   "source": [
    "import feedparser\n",
    "from datetime import datetime\n",
    "\n",
    "DATA_PATH='/home/bkadmin/datasets/spatialedge-hackathon-H1/v1/' \n",
    "FROM_DATE='20200101'\n",
    "TO_DATE='20221231'\n",
    "SYMBOL = 'EURUSD'\n",
    "TIMEFRAME = 'H1'"
   ]
  },
  {
   "cell_type": "markdown",
   "metadata": {},
   "source": [
    "### Pull feed from google News"
   ]
  },
  {
   "cell_type": "code",
   "execution_count": 86,
   "metadata": {},
   "outputs": [
    {
     "name": "stdout",
     "output_type": "stream",
     "text": [
      "Number of RSS posts : 100\n"
     ]
    }
   ],
   "source": [
    "feed = feedparser.parse(\"https://news.google.com/rss/search?q=central+bank+US+EU+site%3Abloomberg.com+when%3A1d&hl=en-ZA&gl=ZA&ceid=ZA%3Aen\")\n",
    "\n",
    "#feed = feedparser.parse(\"https://news.google.com/rss/topics/CAAqJggKIiBDQkFTRWdvSUwyMHZNRGx6TVdZU0FtVnVHZ0pWVXlnQVAB/sections/CAQiSENCQVNNQW9JTDIwdk1EbHpNV1lTQW1WdUdnSlZVeUlQQ0FRYUN3b0pMMjB2TUdkbWNITXpLZ3NTQ1M5dEx6Qm5abkJ6TXlnQSoqCAAqJggKIiBDQkFTRWdvSUwyMHZNRGx6TVdZU0FtVnVHZ0pWVXlnQVABUAE?hl=en-US&gl=US&ceid=US%3Aen\")\n",
    "\n",
    "#feed = feedparser.parse(\"https://news.google.com/rss/search?q=EU+Europe+when%3A1y+-War+-Cut+-Cuts+-Low&hl=en-ZA&gl=ZA&ceid=ZA%3Aen\")\n",
    "\n",
    "print('Number of RSS posts :', len(feed.entries))"
   ]
  },
  {
   "cell_type": "markdown",
   "metadata": {},
   "source": [
    "### Exstract Titles and publish dates"
   ]
  },
  {
   "cell_type": "code",
   "execution_count": 88,
   "metadata": {},
   "outputs": [],
   "source": [
    "titles = []\n",
    "dates = []\n",
    "\n",
    "for post in feed.entries:\n",
    "    title = post.title\n",
    "    date = post.published\n",
    "    titles.append(title.replace(' - Bloomberg', ''))\n",
    "    dates.append(datetime.strptime(date, '%a, %d %b %Y %X %Z').date())"
   ]
  },
  {
   "cell_type": "markdown",
   "metadata": {},
   "source": [
    "### Exstract tags from titles"
   ]
  },
  {
   "cell_type": "code",
   "execution_count": 89,
   "metadata": {},
   "outputs": [
    {
     "name": "stdout",
     "output_type": "stream",
     "text": [
      "[['Europe'], ['Europe'], [], ['US'], [], ['US'], [], ['US'], [], [], [], [], [], [], [], [], [], [], [], [], ['US'], [], ['US'], ['US'], ['US'], [], ['US'], [], [], [], [], [], ['US'], [], ['US'], ['US'], [], [], [], ['US'], [], [], ['US'], [], [], [], ['Europe'], [], [], ['US'], ['US'], [], [], ['US', 'Europe'], ['US'], [], [], ['US'], [], ['US'], [], ['US'], [], [], ['US'], [], [], ['US'], ['US'], ['US'], [], [], [], [], ['US'], ['US'], [], [], [], ['US'], [], [], [], [], [], [], ['US'], [], [], [], ['US'], [], [], [], [], [], [], [], [], []]\n"
     ]
    }
   ],
   "source": [
    "if SYMBOL == 'EURUSD':\n",
    "    search = ['US','U.S.' 'EU', 'Europe']\n",
    "else:\n",
    "    search = []\n",
    "\n",
    "tags_in_title = []\n",
    "for title in titles:\n",
    "    tags = []\n",
    "    for tag in search:\n",
    "        if tag.lower() in title.lower(): tags+=[tag]\n",
    "    tags_in_title += [tags]\n",
    "\n",
    "print(tags_in_title)"
   ]
  },
  {
   "cell_type": "markdown",
   "metadata": {},
   "source": [
    "### Create Dataframe"
   ]
  },
  {
   "cell_type": "code",
   "execution_count": 90,
   "metadata": {},
   "outputs": [
    {
     "name": "stdout",
     "output_type": "stream",
     "text": [
      "<class 'pandas.core.frame.DataFrame'>\n",
      "RangeIndex: 100 entries, 0 to 99\n",
      "Data columns (total 3 columns):\n",
      " #   Column  Non-Null Count  Dtype         \n",
      "---  ------  --------------  -----         \n",
      " 0   Title   100 non-null    object        \n",
      " 1   Tags    100 non-null    object        \n",
      " 2   Date    100 non-null    datetime64[ns]\n",
      "dtypes: datetime64[ns](1), object(2)\n",
      "memory usage: 2.5+ KB\n",
      "                                                Title      Tags       Date\n",
      "0   Europe Inflation: Governments Aren't Helping E...  [Europe] 2023-10-06\n",
      "1   BYD to Stick to Europe Growth Plans Despite Su...  [Europe] 2023-10-07\n",
      "2   EU Migration: Macron, Scholz, Orban, Sunak Fig...        [] 2023-10-06\n",
      "3   Larry Summers Says Fed's Rate Hikes May Not Be...      [US] 2023-10-06\n",
      "4   Azeri Plan to Double Gas Exports to EU at Risk...        [] 2023-10-06\n",
      "..                                                ...       ...        ...\n",
      "95  Panama Bonds Near 14-Year Low on Threat of Bec...        [] 2023-10-06\n",
      "96  CEO Codelco simplifica gestión en intento por ...        [] 2023-10-06\n",
      "97  Metro Bank Bondholders Made £600 Million Fundi...        [] 2023-10-06\n",
      "98  Hedge Funds Began Dumping Bullish Oil Bets Ahe...        [] 2023-10-06\n",
      "99  Exxon (XOM) Moves on Pioneer (PXD) as Big Oil'...        [] 2023-10-06\n",
      "\n",
      "[100 rows x 3 columns]\n"
     ]
    }
   ],
   "source": [
    "import pandas as pd\n",
    "\n",
    "df = pd.DataFrame({'Title': titles,'Tags': tags_in_title,'Date': pd.to_datetime(dates)})\n",
    "\n",
    "df.info()\n",
    "print(df)"
   ]
  },
  {
   "cell_type": "markdown",
   "metadata": {},
   "source": [
    "## Model"
   ]
  },
  {
   "cell_type": "markdown",
   "metadata": {},
   "source": [
    "#### Import training dataset"
   ]
  },
  {
   "cell_type": "code",
   "execution_count": 7,
   "metadata": {},
   "outputs": [
    {
     "name": "stdout",
     "output_type": "stream",
     "text": [
      "                                                   text    labels  \\\n",
      "2995  'Derogatory' Files Ended Service Of 383 U. S. ...  negative   \n",
      "2996  Treasury Securities Are Becalmed: Investors Aw...  negative   \n",
      "2997  SENATE TEST WON BY RIGHTS FORCES: PANEL VOTES ...  negative   \n",
      "2998  FARMERS PUNISHED IN WETBACK' DRIVE: SOME PERMI...  negative   \n",
      "2999  EXECUTIVE HIRING EXPECTED TO RISE: STUDY SHOWS...  positive   \n",
      "\n",
      "          articleid relevance positivity  split positivity_rounded   idx  \n",
      "2995  nyt_113139986       yes        2.0  train                2.0  2995  \n",
      "2996  nyt_108972463       yes        4.0  train                4.0  2996  \n",
      "2997  nyt_119217245       yes        4.0  train                4.0  2997  \n",
      "2998  nyt_112200942       yes        4.0  train                4.0  2998  \n",
      "2999  nyt_119481498       yes        6.5  train                6.0  2999  \n",
      "<class 'pandas.core.frame.DataFrame'>\n",
      "RangeIndex: 3000 entries, 0 to 2999\n",
      "Data columns (total 8 columns):\n",
      " #   Column              Non-Null Count  Dtype \n",
      "---  ------              --------------  ----- \n",
      " 0   text                3000 non-null   object\n",
      " 1   labels              3000 non-null   object\n",
      " 2   articleid           3000 non-null   object\n",
      " 3   relevance           3000 non-null   object\n",
      " 4   positivity          3000 non-null   object\n",
      " 5   split               3000 non-null   object\n",
      " 6   positivity_rounded  3000 non-null   object\n",
      " 7   idx                 3000 non-null   int64 \n",
      "dtypes: int64(1), object(7)\n",
      "memory usage: 187.6+ KB\n",
      "None\n",
      "                                                  text    labels  \\\n",
      "377  The School Auction As Economic Indicator: In G...  negative   \n",
      "378  INFLATION FEARS PUMMEL STOCKS; NEW LOWS FOR '0...  negative   \n",
      "379  THE MARKETS: STOCKS & BONDS Fed Chief's Remark...  positive   \n",
      "380  THE MARKETS: Shares End a Positive First Quart...  positive   \n",
      "381  Freakoutonomics. E month saw one of the sharpe...  positive   \n",
      "\n",
      "        articleid relevance positivity split positivity_rounded   idx  \n",
      "377  nyt_92910828       nan   negative  test                nan  3377  \n",
      "378  nyt_92949405       nan   negative  test                nan  3378  \n",
      "379  nyt_93123524       nan   positive  test                nan  3379  \n",
      "380  nyt_93150693       nan   positive  test                nan  3380  \n",
      "381  nyt_93195697       nan   positive  test                nan  3381  \n",
      "<class 'pandas.core.frame.DataFrame'>\n",
      "RangeIndex: 382 entries, 0 to 381\n",
      "Data columns (total 8 columns):\n",
      " #   Column              Non-Null Count  Dtype \n",
      "---  ------              --------------  ----- \n",
      " 0   text                382 non-null    object\n",
      " 1   labels              382 non-null    object\n",
      " 2   articleid           382 non-null    object\n",
      " 3   relevance           382 non-null    object\n",
      " 4   positivity          382 non-null    object\n",
      " 5   split               382 non-null    object\n",
      " 6   positivity_rounded  382 non-null    object\n",
      " 7   idx                 382 non-null    int64 \n",
      "dtypes: int64(1), object(7)\n",
      "memory usage: 24.0+ KB\n",
      "None\n"
     ]
    }
   ],
   "source": [
    "DATASETS = '~/datasets/sentiment_economy_news/'\n",
    "\n",
    "train = pd.read_parquet(DATASETS + 'train.parquet', engine='pyarrow')\n",
    "test  = pd.read_parquet(DATASETS + 'test.parquet', engine='pyarrow')\n",
    "\n",
    "print(train.tail())\n",
    "print(train.info())\n",
    "\n",
    "print(test.tail())\n",
    "print(test.info())"
   ]
  },
  {
   "cell_type": "markdown",
   "metadata": {},
   "source": [
    "#### Create a classifier model"
   ]
  },
  {
   "cell_type": "code",
   "execution_count": 62,
   "metadata": {},
   "outputs": [],
   "source": [
    "from sklearn.feature_extraction.text import CountVectorizer\n",
    "from sklearn.feature_extraction.text import TfidfTransformer\n",
    "from sklearn.naive_bayes import GaussianNB\n",
    "from sklearn.pipeline import Pipeline\n",
    "\n",
    "X_train = train['text']\n",
    "X_test = test['text']\n",
    "\n",
    "Y_train = pd.Categorical(train['labels'])\n",
    "Y_test = pd.Categorical(test['labels'])\n",
    "labels = Y_train.categories\n",
    "\n",
    "vectorizer = CountVectorizer()\n",
    "\n",
    "X_train_tokens = vectorizer.fit_transform(train[\"text\"])\n",
    "\n",
    "transformer = TfidfTransformer()\n",
    "\n",
    "X_train_tf = transformer.fit_transform(X_train_tokens)\n",
    "\n",
    "title_clf = GaussianNB().fit(X_train_tf.toarray(), Y_train)\n",
    "\n",
    "#title_clf = Pipeline([\n",
    "#    ('vect', CountVectorizer()),\n",
    "#    ('tfidf', TfidfTransformer()),\n",
    "#    ('clf', GaussianNB()),\n",
    "#])"
   ]
  },
  {
   "cell_type": "markdown",
   "metadata": {},
   "source": [
    "#### Train model"
   ]
  },
  {
   "cell_type": "code",
   "execution_count": 63,
   "metadata": {},
   "outputs": [
    {
     "ename": "ValueError",
     "evalue": "could not convert string to float: 'Fed Finds Slow Pace Of Growth: Floods and Drought Fail to Halt Recovery Economic Activity Still Expanding Slowly. WASHINGTON, Aug. 4 — Neither flood nor rain nor searing drought is choking off the nation\\'s modest economic recovery, even though they have been devastating to the Midwest and the South.</br></br>The 12 Federal Reserve Banks reported today that economic activity in most districts, including the Midwest, continued to expand \"slowly to moderately” in June and the first half of July.</br></br>\"The effects of flooding were said to be highly concentrated and were not seen to threaten overall economic expansion,” the Federal Reserve said in its latest survey of regional economic conditions, a report known as the beige book.</br></br>The Federal Reserve’s latest appraisal of economic conditions was based on surveys of farmers, bankers and business executives conducted before July 27. The Federal Reserve Banks assess economic conditions and price trends before the Fed’s monetary policy meetings, which are held roughly every six weeks. The next meeting of the Federal Open Market Committee, which decides whether to raise or lower short-term interest rates, is scheduled for Aug. 16 and 17.</br></br>The Federal Reserve’s chairman, Alan Greenspan, has been watching for signs that prices are starting to rise faster as the economy keeps growing, which could lead the Fed id raise rates to check inflation. But the report today found that price pressures were mixed.'",
     "output_type": "error",
     "traceback": [
      "\u001b[0;31m---------------------------------------------------------------------------\u001b[0m",
      "\u001b[0;31mValueError\u001b[0m                                Traceback (most recent call last)",
      "\u001b[1;32m/home/bkadmin/Github/hackathonn23/testing/rss/rss.ipynb Cell 17\u001b[0m line \u001b[0;36m1\n\u001b[0;32m----> <a href='vscode-notebook-cell:/home/bkadmin/Github/hackathonn23/testing/rss/rss.ipynb#X26sZmlsZQ%3D%3D?line=0'>1</a>\u001b[0m title_clf\u001b[39m.\u001b[39;49mfit(X_train, Y_train)\n",
      "File \u001b[0;32m~/.local/lib/python3.11/site-packages/sklearn/base.py:1152\u001b[0m, in \u001b[0;36m_fit_context.<locals>.decorator.<locals>.wrapper\u001b[0;34m(estimator, *args, **kwargs)\u001b[0m\n\u001b[1;32m   1145\u001b[0m     estimator\u001b[39m.\u001b[39m_validate_params()\n\u001b[1;32m   1147\u001b[0m \u001b[39mwith\u001b[39;00m config_context(\n\u001b[1;32m   1148\u001b[0m     skip_parameter_validation\u001b[39m=\u001b[39m(\n\u001b[1;32m   1149\u001b[0m         prefer_skip_nested_validation \u001b[39mor\u001b[39;00m global_skip_validation\n\u001b[1;32m   1150\u001b[0m     )\n\u001b[1;32m   1151\u001b[0m ):\n\u001b[0;32m-> 1152\u001b[0m     \u001b[39mreturn\u001b[39;00m fit_method(estimator, \u001b[39m*\u001b[39;49margs, \u001b[39m*\u001b[39;49m\u001b[39m*\u001b[39;49mkwargs)\n",
      "File \u001b[0;32m~/.local/lib/python3.11/site-packages/sklearn/naive_bayes.py:263\u001b[0m, in \u001b[0;36mGaussianNB.fit\u001b[0;34m(self, X, y, sample_weight)\u001b[0m\n\u001b[1;32m    240\u001b[0m \u001b[39m\u001b[39m\u001b[39m\"\"\"Fit Gaussian Naive Bayes according to X, y.\u001b[39;00m\n\u001b[1;32m    241\u001b[0m \n\u001b[1;32m    242\u001b[0m \u001b[39mParameters\u001b[39;00m\n\u001b[0;32m   (...)\u001b[0m\n\u001b[1;32m    260\u001b[0m \u001b[39m    Returns the instance itself.\u001b[39;00m\n\u001b[1;32m    261\u001b[0m \u001b[39m\"\"\"\u001b[39;00m\n\u001b[1;32m    262\u001b[0m y \u001b[39m=\u001b[39m \u001b[39mself\u001b[39m\u001b[39m.\u001b[39m_validate_data(y\u001b[39m=\u001b[39my)\n\u001b[0;32m--> 263\u001b[0m \u001b[39mreturn\u001b[39;00m \u001b[39mself\u001b[39;49m\u001b[39m.\u001b[39;49m_partial_fit(\n\u001b[1;32m    264\u001b[0m     X, y, np\u001b[39m.\u001b[39;49munique(y), _refit\u001b[39m=\u001b[39;49m\u001b[39mTrue\u001b[39;49;00m, sample_weight\u001b[39m=\u001b[39;49msample_weight\n\u001b[1;32m    265\u001b[0m )\n",
      "File \u001b[0;32m~/.local/lib/python3.11/site-packages/sklearn/naive_bayes.py:423\u001b[0m, in \u001b[0;36mGaussianNB._partial_fit\u001b[0;34m(self, X, y, classes, _refit, sample_weight)\u001b[0m\n\u001b[1;32m    420\u001b[0m     \u001b[39mself\u001b[39m\u001b[39m.\u001b[39mclasses_ \u001b[39m=\u001b[39m \u001b[39mNone\u001b[39;00m\n\u001b[1;32m    422\u001b[0m first_call \u001b[39m=\u001b[39m _check_partial_fit_first_call(\u001b[39mself\u001b[39m, classes)\n\u001b[0;32m--> 423\u001b[0m X, y \u001b[39m=\u001b[39m \u001b[39mself\u001b[39;49m\u001b[39m.\u001b[39;49m_validate_data(X, y, reset\u001b[39m=\u001b[39;49mfirst_call)\n\u001b[1;32m    424\u001b[0m \u001b[39mif\u001b[39;00m sample_weight \u001b[39mis\u001b[39;00m \u001b[39mnot\u001b[39;00m \u001b[39mNone\u001b[39;00m:\n\u001b[1;32m    425\u001b[0m     sample_weight \u001b[39m=\u001b[39m _check_sample_weight(sample_weight, X)\n",
      "File \u001b[0;32m~/.local/lib/python3.11/site-packages/sklearn/base.py:622\u001b[0m, in \u001b[0;36mBaseEstimator._validate_data\u001b[0;34m(self, X, y, reset, validate_separately, cast_to_ndarray, **check_params)\u001b[0m\n\u001b[1;32m    620\u001b[0m         y \u001b[39m=\u001b[39m check_array(y, input_name\u001b[39m=\u001b[39m\u001b[39m\"\u001b[39m\u001b[39my\u001b[39m\u001b[39m\"\u001b[39m, \u001b[39m*\u001b[39m\u001b[39m*\u001b[39mcheck_y_params)\n\u001b[1;32m    621\u001b[0m     \u001b[39melse\u001b[39;00m:\n\u001b[0;32m--> 622\u001b[0m         X, y \u001b[39m=\u001b[39m check_X_y(X, y, \u001b[39m*\u001b[39;49m\u001b[39m*\u001b[39;49mcheck_params)\n\u001b[1;32m    623\u001b[0m     out \u001b[39m=\u001b[39m X, y\n\u001b[1;32m    625\u001b[0m \u001b[39mif\u001b[39;00m \u001b[39mnot\u001b[39;00m no_val_X \u001b[39mand\u001b[39;00m check_params\u001b[39m.\u001b[39mget(\u001b[39m\"\u001b[39m\u001b[39mensure_2d\u001b[39m\u001b[39m\"\u001b[39m, \u001b[39mTrue\u001b[39;00m):\n",
      "File \u001b[0;32m~/.local/lib/python3.11/site-packages/sklearn/utils/validation.py:1146\u001b[0m, in \u001b[0;36mcheck_X_y\u001b[0;34m(X, y, accept_sparse, accept_large_sparse, dtype, order, copy, force_all_finite, ensure_2d, allow_nd, multi_output, ensure_min_samples, ensure_min_features, y_numeric, estimator)\u001b[0m\n\u001b[1;32m   1141\u001b[0m         estimator_name \u001b[39m=\u001b[39m _check_estimator_name(estimator)\n\u001b[1;32m   1142\u001b[0m     \u001b[39mraise\u001b[39;00m \u001b[39mValueError\u001b[39;00m(\n\u001b[1;32m   1143\u001b[0m         \u001b[39mf\u001b[39m\u001b[39m\"\u001b[39m\u001b[39m{\u001b[39;00mestimator_name\u001b[39m}\u001b[39;00m\u001b[39m requires y to be passed, but the target y is None\u001b[39m\u001b[39m\"\u001b[39m\n\u001b[1;32m   1144\u001b[0m     )\n\u001b[0;32m-> 1146\u001b[0m X \u001b[39m=\u001b[39m check_array(\n\u001b[1;32m   1147\u001b[0m     X,\n\u001b[1;32m   1148\u001b[0m     accept_sparse\u001b[39m=\u001b[39;49maccept_sparse,\n\u001b[1;32m   1149\u001b[0m     accept_large_sparse\u001b[39m=\u001b[39;49maccept_large_sparse,\n\u001b[1;32m   1150\u001b[0m     dtype\u001b[39m=\u001b[39;49mdtype,\n\u001b[1;32m   1151\u001b[0m     order\u001b[39m=\u001b[39;49morder,\n\u001b[1;32m   1152\u001b[0m     copy\u001b[39m=\u001b[39;49mcopy,\n\u001b[1;32m   1153\u001b[0m     force_all_finite\u001b[39m=\u001b[39;49mforce_all_finite,\n\u001b[1;32m   1154\u001b[0m     ensure_2d\u001b[39m=\u001b[39;49mensure_2d,\n\u001b[1;32m   1155\u001b[0m     allow_nd\u001b[39m=\u001b[39;49mallow_nd,\n\u001b[1;32m   1156\u001b[0m     ensure_min_samples\u001b[39m=\u001b[39;49mensure_min_samples,\n\u001b[1;32m   1157\u001b[0m     ensure_min_features\u001b[39m=\u001b[39;49mensure_min_features,\n\u001b[1;32m   1158\u001b[0m     estimator\u001b[39m=\u001b[39;49mestimator,\n\u001b[1;32m   1159\u001b[0m     input_name\u001b[39m=\u001b[39;49m\u001b[39m\"\u001b[39;49m\u001b[39mX\u001b[39;49m\u001b[39m\"\u001b[39;49m,\n\u001b[1;32m   1160\u001b[0m )\n\u001b[1;32m   1162\u001b[0m y \u001b[39m=\u001b[39m _check_y(y, multi_output\u001b[39m=\u001b[39mmulti_output, y_numeric\u001b[39m=\u001b[39my_numeric, estimator\u001b[39m=\u001b[39mestimator)\n\u001b[1;32m   1164\u001b[0m check_consistent_length(X, y)\n",
      "File \u001b[0;32m~/.local/lib/python3.11/site-packages/sklearn/utils/validation.py:915\u001b[0m, in \u001b[0;36mcheck_array\u001b[0;34m(array, accept_sparse, accept_large_sparse, dtype, order, copy, force_all_finite, ensure_2d, allow_nd, ensure_min_samples, ensure_min_features, estimator, input_name)\u001b[0m\n\u001b[1;32m    913\u001b[0m         array \u001b[39m=\u001b[39m xp\u001b[39m.\u001b[39mastype(array, dtype, copy\u001b[39m=\u001b[39m\u001b[39mFalse\u001b[39;00m)\n\u001b[1;32m    914\u001b[0m     \u001b[39melse\u001b[39;00m:\n\u001b[0;32m--> 915\u001b[0m         array \u001b[39m=\u001b[39m _asarray_with_order(array, order\u001b[39m=\u001b[39;49morder, dtype\u001b[39m=\u001b[39;49mdtype, xp\u001b[39m=\u001b[39;49mxp)\n\u001b[1;32m    916\u001b[0m \u001b[39mexcept\u001b[39;00m ComplexWarning \u001b[39mas\u001b[39;00m complex_warning:\n\u001b[1;32m    917\u001b[0m     \u001b[39mraise\u001b[39;00m \u001b[39mValueError\u001b[39;00m(\n\u001b[1;32m    918\u001b[0m         \u001b[39m\"\u001b[39m\u001b[39mComplex data not supported\u001b[39m\u001b[39m\\n\u001b[39;00m\u001b[39m{}\u001b[39;00m\u001b[39m\\n\u001b[39;00m\u001b[39m\"\u001b[39m\u001b[39m.\u001b[39mformat(array)\n\u001b[1;32m    919\u001b[0m     ) \u001b[39mfrom\u001b[39;00m \u001b[39mcomplex_warning\u001b[39;00m\n",
      "File \u001b[0;32m~/.local/lib/python3.11/site-packages/sklearn/utils/_array_api.py:380\u001b[0m, in \u001b[0;36m_asarray_with_order\u001b[0;34m(array, dtype, order, copy, xp)\u001b[0m\n\u001b[1;32m    378\u001b[0m     array \u001b[39m=\u001b[39m numpy\u001b[39m.\u001b[39marray(array, order\u001b[39m=\u001b[39morder, dtype\u001b[39m=\u001b[39mdtype)\n\u001b[1;32m    379\u001b[0m \u001b[39melse\u001b[39;00m:\n\u001b[0;32m--> 380\u001b[0m     array \u001b[39m=\u001b[39m numpy\u001b[39m.\u001b[39masarray(array, order\u001b[39m=\u001b[39morder, dtype\u001b[39m=\u001b[39mdtype)\n\u001b[1;32m    382\u001b[0m \u001b[39m# At this point array is a NumPy ndarray. We convert it to an array\u001b[39;00m\n\u001b[1;32m    383\u001b[0m \u001b[39m# container that is consistent with the input's namespace.\u001b[39;00m\n\u001b[1;32m    384\u001b[0m \u001b[39mreturn\u001b[39;00m xp\u001b[39m.\u001b[39masarray(array)\n",
      "File \u001b[0;32m~/.local/lib/python3.11/site-packages/pandas/core/series.py:953\u001b[0m, in \u001b[0;36mSeries.__array__\u001b[0;34m(self, dtype)\u001b[0m\n\u001b[1;32m    906\u001b[0m \u001b[39m\u001b[39m\u001b[39m\"\"\"\u001b[39;00m\n\u001b[1;32m    907\u001b[0m \u001b[39mReturn the values as a NumPy array.\u001b[39;00m\n\u001b[1;32m    908\u001b[0m \n\u001b[0;32m   (...)\u001b[0m\n\u001b[1;32m    950\u001b[0m \u001b[39m      dtype='datetime64[ns]')\u001b[39;00m\n\u001b[1;32m    951\u001b[0m \u001b[39m\"\"\"\u001b[39;00m\n\u001b[1;32m    952\u001b[0m values \u001b[39m=\u001b[39m \u001b[39mself\u001b[39m\u001b[39m.\u001b[39m_values\n\u001b[0;32m--> 953\u001b[0m arr \u001b[39m=\u001b[39m np\u001b[39m.\u001b[39;49masarray(values, dtype\u001b[39m=\u001b[39;49mdtype)\n\u001b[1;32m    954\u001b[0m \u001b[39mif\u001b[39;00m using_copy_on_write() \u001b[39mand\u001b[39;00m astype_is_view(values\u001b[39m.\u001b[39mdtype, arr\u001b[39m.\u001b[39mdtype):\n\u001b[1;32m    955\u001b[0m     arr \u001b[39m=\u001b[39m arr\u001b[39m.\u001b[39mview()\n",
      "\u001b[0;31mValueError\u001b[0m: could not convert string to float: 'Fed Finds Slow Pace Of Growth: Floods and Drought Fail to Halt Recovery Economic Activity Still Expanding Slowly. WASHINGTON, Aug. 4 — Neither flood nor rain nor searing drought is choking off the nation\\'s modest economic recovery, even though they have been devastating to the Midwest and the South.</br></br>The 12 Federal Reserve Banks reported today that economic activity in most districts, including the Midwest, continued to expand \"slowly to moderately” in June and the first half of July.</br></br>\"The effects of flooding were said to be highly concentrated and were not seen to threaten overall economic expansion,” the Federal Reserve said in its latest survey of regional economic conditions, a report known as the beige book.</br></br>The Federal Reserve’s latest appraisal of economic conditions was based on surveys of farmers, bankers and business executives conducted before July 27. The Federal Reserve Banks assess economic conditions and price trends before the Fed’s monetary policy meetings, which are held roughly every six weeks. The next meeting of the Federal Open Market Committee, which decides whether to raise or lower short-term interest rates, is scheduled for Aug. 16 and 17.</br></br>The Federal Reserve’s chairman, Alan Greenspan, has been watching for signs that prices are starting to rise faster as the economy keeps growing, which could lead the Fed id raise rates to check inflation. But the report today found that price pressures were mixed.'"
     ]
    }
   ],
   "source": [
    "\n",
    "\n",
    "title_clf.fit(X_train, Y_train)"
   ]
  },
  {
   "cell_type": "markdown",
   "metadata": {},
   "source": [
    "#### Evaluate Model"
   ]
  },
  {
   "cell_type": "code",
   "execution_count": 66,
   "metadata": {},
   "outputs": [
    {
     "name": "stdout",
     "output_type": "stream",
     "text": [
      "              precision    recall  f1-score   support\n",
      "\n",
      "    negative       0.62      0.78      0.69       241\n",
      "    positive       0.34      0.19      0.24       141\n",
      "\n",
      "    accuracy                           0.56       382\n",
      "   macro avg       0.48      0.49      0.47       382\n",
      "weighted avg       0.52      0.56      0.53       382\n",
      "\n"
     ]
    }
   ],
   "source": [
    "\n",
    "from sklearn.metrics import classification_report\n",
    "\n",
    "X_test_tokens = vectorizer.transform(test['text'])\n",
    "X_test_tf = transformer.transform(X_test_tokens)\n",
    "\n",
    "predicted = title_clf.predict(X_test_tf.toarray())\n",
    "\n",
    "print(classification_report(Y_test, predicted, target_names=labels))"
   ]
  },
  {
   "cell_type": "markdown",
   "metadata": {},
   "source": [
    "#### Plot a bar chart on predicted labels for testing data"
   ]
  },
  {
   "cell_type": "code",
   "execution_count": 27,
   "metadata": {},
   "outputs": [
    {
     "data": {
      "image/png": "[encoded data removed]",
      "text/plain": [
       "<Figure size 640x480 with 1 Axes>"
      ]
     },
     "metadata": {},
     "output_type": "display_data"
    }
   ],
   "source": [
    "import matplotlib.pyplot as plt \n",
    "from collections import Counter\n",
    "\n",
    "label_counts = Counter(predicted)\n",
    "\n",
    "# Extract labels and counts as separate lists\n",
    "labels = list(label_counts.keys())\n",
    "counts = list(label_counts.values())\n",
    "\n",
    "# Create a bar chart\n",
    "plt.bar(labels, counts)\n",
    "plt.xlabel('Predicted Labels')\n",
    "plt.ylabel('Count')\n",
    "plt.title('Predicted Label Counts')\n",
    "plt.xticks(rotation=45)  # Rotate x-axis labels for better readability\n",
    "plt.show()"
   ]
  },
  {
   "cell_type": "markdown",
   "metadata": {},
   "source": [
    "## Evaluate model on aggregated news sources"
   ]
  },
  {
   "cell_type": "code",
   "execution_count": 91,
   "metadata": {},
   "outputs": [
    {
     "name": "stdout",
     "output_type": "stream",
     "text": [
      "['positive' 'negative' 'negative' 'positive' 'positive' 'positive'\n",
      " 'positive' 'positive' 'negative' 'positive' 'positive' 'negative'\n",
      " 'positive' 'positive' 'negative' 'positive' 'positive' 'negative'\n",
      " 'negative' 'positive' 'positive' 'negative' 'positive' 'positive'\n",
      " 'positive' 'negative' 'positive' 'positive' 'positive' 'positive'\n",
      " 'negative' 'positive' 'negative' 'negative' 'negative' 'positive'\n",
      " 'positive' 'negative' 'positive' 'positive' 'positive' 'positive'\n",
      " 'positive' 'positive' 'negative' 'positive' 'negative' 'positive'\n",
      " 'positive' 'negative' 'positive' 'positive' 'positive' 'negative'\n",
      " 'positive' 'positive' 'negative' 'negative' 'positive' 'positive'\n",
      " 'positive' 'positive' 'positive' 'positive' 'negative' 'positive'\n",
      " 'negative' 'positive' 'positive' 'positive' 'positive' 'negative'\n",
      " 'positive' 'positive' 'negative' 'positive' 'negative' 'positive'\n",
      " 'negative' 'positive' 'negative' 'positive' 'negative' 'positive'\n",
      " 'negative' 'negative' 'positive' 'positive' 'positive' 'positive'\n",
      " 'positive' 'positive' 'negative' 'positive' 'negative' 'negative'\n",
      " 'positive' 'negative' 'negative' 'negative']\n",
      "Europe Inflation: Governments Aren't Helping ECB, Knott Warns\n",
      "BYD to Stick to Europe Growth Plans Despite Subsidies Probe\n",
      "EU Migration: Macron, Scholz, Orban, Sunak Fight at Summit in Spain\n",
      "Larry Summers Says Fed's Rate Hikes May Not Be Working Like They Used To\n",
      "Azeri Plan to Double Gas Exports to EU at Risk as Talks Stall\n",
      "US Jobs Report September 2023: US Adds 336,000 Positions, Double Estimates\n",
      "Bond Market Yields at 5% - or More - Spell Pain for Everyone\n",
      "Treasuries Tumble as US Payroll Growth Blows Past Estimates\n",
      "Turkey Vows to Build Reserves as IMF Sees Slower Growth in 2024\n",
      "Stock Traders Absorb Blows in Week of Treasury Turmoil, Commodities Drama\n",
      "Thailand's $15 Billion Handout Plan Faces Growing Criticism\n",
      "Singapore Lures Rich, Hong Kong Mansion, China Travels Again: Asia Briefing\n",
      "Trader Bets Big on VIX Spike Hours Before Blowout Jobs Report\n",
      "'Something Is Likely to Break' After Jobs Data, El-Erian Says\n",
      "Israel Calls State of Alert for War as Gaza Rockets Strike\n",
      "Gina Rhinehart's Stake in Lithium Miner Liontown Leaves Investors Guessing\n",
      "Ivorian Leader Dissolves Cabinet After Local Election Boost\n",
      "Sunak Stealth Raid Will Be Biggest UK Tax Rise Ever, Study Shows\n",
      "Ghana Needs Official Creditors Pact to Unlock IMF's $600 Million\n",
      "Rates & Bonds\n"
     ]
    },
    {
     "data": {
      "image/png": "[encoded data removed]",
      "text/plain": [
       "<Figure size 640x480 with 1 Axes>"
      ]
     },
     "metadata": {},
     "output_type": "display_data"
    }
   ],
   "source": [
    "X_titles = df['Title']\n",
    "\n",
    "X_titles_tokens = vectorizer.transform(X_titles)\n",
    "X_titles_tf = transformer.transform(X_titles_tokens)\n",
    "\n",
    "Y_result = title_clf.predict(X_titles_tf.toarray())\n",
    "\n",
    "#print(classification_report(Y_test, Y_result, target_names=labeX_test_tfls))\n",
    "\n",
    "print(Y_result)\n",
    "\n",
    "for i in range(20):\n",
    "    print(df.Title[i])\n",
    "\n",
    "label_counts = Counter(Y_result)\n",
    "\n",
    "# Extract labels and counts as separate lists\n",
    "labels = list(label_counts.keys())\n",
    "counts = list(label_counts.values())\n",
    "\n",
    "# Create a bar chart\n",
    "plt.bar(labels, counts)\n",
    "plt.xlabel('Predicted Labels')\n",
    "plt.ylabel('Count')\n",
    "plt.title('Predicted Label Counts')\n",
    "plt.xticks(rotation=45)  # Rotate x-axis labels for better readability\n",
    "plt.show()"
   ]
  }
 ],
 "metadata": {
  "kernelspec": {
   "display_name": "Python 3",
   "language": "python",
   "name": "python3"
  },
  "language_info": {
   "codemirror_mode": {
    "name": "ipython",
    "version": 3
   },
   "file_extension": ".py",
   "mimetype": "text/x-python",
   "name": "python",
   "nbconvert_exporter": "python",
   "pygments_lexer": "ipython3",
   "version": "3.11.2"
  },
  "orig_nbformat": 4
 },
 "nbformat": 4,
 "nbformat_minor": 2
}
