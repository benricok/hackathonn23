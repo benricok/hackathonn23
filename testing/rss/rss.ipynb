{
 "cells": [
  {
   "cell_type": "markdown",
   "metadata": {},
   "source": [
    "# RSS"
   ]
  },
  {
   "cell_type": "code",
   "execution_count": 1,
   "metadata": {},
   "outputs": [],
   "source": [
    "import feedparser\n",
    "from datetime import datetime\n",
    "\n",
    "DATA_PATH='/home/bkadmin/datasets/spatialedge-hackathon-H1/v1/' \n",
    "FROM_DATE='20200101'\n",
    "TO_DATE='20221231'\n",
    "SYMBOL = 'EURUSD'\n",
    "TIMEFRAME = 'H1'"
   ]
  },
  {
   "cell_type": "markdown",
   "metadata": {},
   "source": [
    "### Pull feed from google News"
   ]
  },
  {
   "cell_type": "code",
   "execution_count": 2,
   "metadata": {},
   "outputs": [],
   "source": [
    "# feed = feedparser.parse(\"https://news.google.com/rss/search?q=central+bank+US+EU+site%3Abloomberg.com+when%3A1d&hl=en-ZA&gl=ZA&ceid=ZA%3Aen\")\n",
    "\n",
    "# feed2 = feedparser.parse(\"https://news.google.com/rss/topics/CAAqJggKIiBDQkFTRWdvSUwyMHZNRGx6TVdZU0FtVnVHZ0pWVXlnQVAB/sections/CAQiSENCQVNNQW9JTDIwdk1EbHpNV1lTQW1WdUdnSlZVeUlQQ0FRYUN3b0pMMjB2TUdkbWNITXpLZ3NTQ1M5dEx6Qm5abkJ6TXlnQSoqCAAqJggKIiBDQkFTRWdvSUwyMHZNRGx6TVdZU0FtVnVHZ0pWVXlnQVABUAE?hl=en-US&gl=US&ceid=US%3Aen\")\n",
    "\n",
    "# feed3 = feedparser.parse(\"https://news.google.com/rss/search?q=EU+Europe+when%3A1y+-War+-Cut+-Cuts+-Low&hl=en-ZA&gl=ZA&ceid=ZA%3Aen\")\n",
    "\n",
    "feeds = [\"https://news.google.com/rss/search?q=central+bank+US+EU+site%3Abloomberg.com+when%3A1d&hl=en-ZA&gl=ZA&ceid=ZA%3Aen\",\n",
    "         \"https://news.google.com/rss/topics/CAAqJggKIiBDQkFTRWdvSUwyMHZNRGx6TVdZU0FtVnVHZ0pWVXlnQVAB/sections/CAQiSENCQVNNQW9JTDIwdk1EbHpNV1lTQW1WdUdnSlZVeUlQQ0FRYUN3b0pMMjB2TUdkbWNITXpLZ3NTQ1M5dEx6Qm5abkJ6TXlnQSoqCAAqJggKIiBDQkFTRWdvSUwyMHZNRGx6TVdZU0FtVnVHZ0pWVXlnQVABUAE?hl=en-US&gl=US&ceid=US%3Aen\",\n",
    "         \"https://news.google.com/rss/search?q=EU+Europe+when%3A1y+-War+-Cut+-Cuts+-Low&hl=en-ZA&gl=ZA&ceid=ZA%3Aen\"]"
   ]
  },
  {
   "cell_type": "markdown",
   "metadata": {},
   "source": [
    "### Exstract Titles and publish dates"
   ]
  },
  {
   "cell_type": "code",
   "execution_count": 3,
   "metadata": {},
   "outputs": [
    {
     "name": "stdout",
     "output_type": "stream",
     "text": [
      "Number of RSS posts : 269\n"
     ]
    }
   ],
   "source": [
    "titles = []\n",
    "dates = []\n",
    "\n",
    "for feed in feeds:\n",
    "    for post in feedparser.parse(feed).entries:\n",
    "        title = post.title\n",
    "        date = post.published\n",
    "        titles.append(title.replace(' - Bloomberg', ''))\n",
    "        dates.append(datetime.strptime(date, '%a, %d %b %Y %X %Z').date())\n",
    "\n",
    "print('Number of RSS posts :', len(titles))"
   ]
  },
  {
   "cell_type": "markdown",
   "metadata": {},
   "source": [
    "### Exstract tags from titles"
   ]
  },
  {
   "cell_type": "code",
   "execution_count": 4,
   "metadata": {},
   "outputs": [
    {
     "name": "stdout",
     "output_type": "stream",
     "text": [
      "[[], ['US'], ['Europe'], ['US'], [], [], [], [], [], [], [], ['US'], [], [], [], ['US'], ['US'], [], ['US'], ['US'], [], [], [], ['US'], ['US'], [], ['US'], [], ['US'], [], [], [], [], [], ['US'], ['Europe'], [], [], [], [], ['US', 'Europe'], [], ['US'], [], ['US'], [], [], ['US'], [], [], ['US'], [], ['US'], ['US'], [], [], ['US'], ['US'], [], [], [], ['US'], ['US'], [], [], [], [], ['US'], [], ['US'], [], [], [], [], [], ['US'], [], [], [], [], [], [], [], [], ['US'], [], [], [], [], [], [], ['US'], ['US'], [], ['US'], [], ['US'], [], [], [], ['US'], [], [], ['US'], ['US'], ['US'], ['US'], [], [], [], ['US', 'Europe'], [], ['US'], [], [], [], [], [], ['US'], [], [], [], [], [], [], [], [], ['US'], [], ['US'], ['US'], ['US'], [], [], [], [], [], [], [], [], ['US'], ['US'], ['US'], ['US'], ['US'], [], [], [], [], ['US'], [], ['US'], [], [], [], [], [], ['US'], [], ['US'], [], [], ['US'], [], [], ['US'], [], [], [], [], ['Europe'], [], ['US'], [], ['Europe'], [], ['Europe'], ['Europe'], ['Europe'], ['Europe'], [], ['US', 'Europe'], ['Europe'], ['Europe'], ['Europe'], ['US'], [], ['Europe'], ['Europe'], ['Europe'], ['Europe'], [], ['Europe'], ['Europe'], ['US', 'Europe'], ['Europe'], ['Europe'], [], [], [], [], ['Europe'], ['Europe'], ['Europe'], ['Europe'], ['Europe'], ['Europe'], [], ['Europe'], ['Europe'], [], ['Europe'], ['Europe'], [], ['Europe'], ['US'], [], ['Europe'], [], [], ['US', 'Europe'], ['Europe'], [], ['Europe'], [], ['US', 'Europe'], [], ['Europe'], [], ['US', 'Europe'], [], [], [], ['US', 'Europe'], ['Europe'], ['Europe'], [], ['Europe'], ['Europe'], ['Europe'], [], [], [], ['US'], [], ['US', 'Europe'], ['US'], ['US', 'Europe'], ['Europe'], ['Europe'], ['Europe'], ['US', 'Europe'], ['Europe'], [], ['Europe'], ['US', 'Europe'], ['US', 'Europe'], ['Europe'], ['US'], ['Europe'], ['Europe'], [], ['Europe'], ['Europe'], ['Europe'], ['Europe'], [], [], ['Europe']]\n"
     ]
    }
   ],
   "source": [
    "if SYMBOL == 'EURUSD':\n",
    "    search = ['US','U.S.' 'EU', 'Europe']\n",
    "else:\n",
    "    search = []\n",
    "\n",
    "tags_in_title = []\n",
    "for title in titles:\n",
    "    tags = []\n",
    "    for tag in search:\n",
    "        if tag.lower() in title.lower(): tags+=[tag]\n",
    "    tags_in_title += [tags]\n",
    "\n",
    "print(tags_in_title)"
   ]
  },
  {
   "cell_type": "markdown",
   "metadata": {},
   "source": [
    "### Create Dataframe"
   ]
  },
  {
   "cell_type": "code",
   "execution_count": 5,
   "metadata": {},
   "outputs": [
    {
     "name": "stdout",
     "output_type": "stream",
     "text": [
      "<class 'pandas.core.frame.DataFrame'>\n",
      "RangeIndex: 269 entries, 0 to 268\n",
      "Data columns (total 3 columns):\n",
      " #   Column  Non-Null Count  Dtype         \n",
      "---  ------  --------------  -----         \n",
      " 0   Title   269 non-null    object        \n",
      " 1   Tags    269 non-null    object        \n",
      " 2   Date    269 non-null    datetime64[ns]\n",
      "dtypes: datetime64[ns](1), object(2)\n",
      "memory usage: 6.4+ KB\n",
      "                                                 Title      Tags       Date\n",
      "0    EU Migration: Macron, Scholz, Orban, Sunak Fig...        [] 2023-10-06\n",
      "1    Larry Summers Says Fed's Rate Hikes May Not Be...      [US] 2023-10-06\n",
      "2    BYD to Stick to Europe Growth Plans Despite Su...  [Europe] 2023-10-07\n",
      "3    Treasuries Tumble as US Payroll Growth Blows P...      [US] 2023-10-06\n",
      "4    Turkey Vows to Build Reserves as IMF Sees Slow...        [] 2023-10-07\n",
      "..                                                 ...       ...        ...\n",
      "264              G20 Session III - European Commission  [Europe] 2023-09-10\n",
      "265  European think tank calls for mandatory EU alc...  [Europe] 2023-09-18\n",
      "266  CAPS-EU: Building Capacity for Private Sponsor...        [] 2023-09-16\n",
      "267  EU climate commissioner: MEPs mull rejecting n...        [] 2023-09-12\n",
      "268  Horizon Europe grants €166m to boost EU space ...  [Europe] 2023-09-08\n",
      "\n",
      "[269 rows x 3 columns]\n"
     ]
    }
   ],
   "source": [
    "import pandas as pd\n",
    "\n",
    "df = pd.DataFrame({'Title': titles,'Tags': tags_in_title,'Date': pd.to_datetime(dates)})\n",
    "\n",
    "df.info()\n",
    "print(df)"
   ]
  },
  {
   "cell_type": "markdown",
   "metadata": {},
   "source": [
    "## Model"
   ]
  },
  {
   "cell_type": "markdown",
   "metadata": {},
   "source": [
    "#### Import training dataset"
   ]
  },
  {
   "cell_type": "code",
   "execution_count": 6,
   "metadata": {},
   "outputs": [
    {
     "name": "stdout",
     "output_type": "stream",
     "text": [
      "                                                   text    labels  \\\n",
      "2995  'Derogatory' Files Ended Service Of 383 U. S. ...  negative   \n",
      "2996  Treasury Securities Are Becalmed: Investors Aw...  negative   \n",
      "2997  SENATE TEST WON BY RIGHTS FORCES: PANEL VOTES ...  negative   \n",
      "2998  FARMERS PUNISHED IN WETBACK' DRIVE: SOME PERMI...  negative   \n",
      "2999  EXECUTIVE HIRING EXPECTED TO RISE: STUDY SHOWS...  positive   \n",
      "\n",
      "          articleid relevance positivity  split positivity_rounded   idx  \n",
      "2995  nyt_113139986       yes        2.0  train                2.0  2995  \n",
      "2996  nyt_108972463       yes        4.0  train                4.0  2996  \n",
      "2997  nyt_119217245       yes        4.0  train                4.0  2997  \n",
      "2998  nyt_112200942       yes        4.0  train                4.0  2998  \n",
      "2999  nyt_119481498       yes        6.5  train                6.0  2999  \n",
      "<class 'pandas.core.frame.DataFrame'>\n",
      "RangeIndex: 3000 entries, 0 to 2999\n",
      "Data columns (total 8 columns):\n",
      " #   Column              Non-Null Count  Dtype \n",
      "---  ------              --------------  ----- \n",
      " 0   text                3000 non-null   object\n",
      " 1   labels              3000 non-null   object\n",
      " 2   articleid           3000 non-null   object\n",
      " 3   relevance           3000 non-null   object\n",
      " 4   positivity          3000 non-null   object\n",
      " 5   split               3000 non-null   object\n",
      " 6   positivity_rounded  3000 non-null   object\n",
      " 7   idx                 3000 non-null   int64 \n",
      "dtypes: int64(1), object(7)\n",
      "memory usage: 187.6+ KB\n",
      "None\n",
      "                                                  text    labels  \\\n",
      "377  The School Auction As Economic Indicator: In G...  negative   \n",
      "378  INFLATION FEARS PUMMEL STOCKS; NEW LOWS FOR '0...  negative   \n",
      "379  THE MARKETS: STOCKS & BONDS Fed Chief's Remark...  positive   \n",
      "380  THE MARKETS: Shares End a Positive First Quart...  positive   \n",
      "381  Freakoutonomics. E month saw one of the sharpe...  positive   \n",
      "\n",
      "        articleid relevance positivity split positivity_rounded   idx  \n",
      "377  nyt_92910828       nan   negative  test                nan  3377  \n",
      "378  nyt_92949405       nan   negative  test                nan  3378  \n",
      "379  nyt_93123524       nan   positive  test                nan  3379  \n",
      "380  nyt_93150693       nan   positive  test                nan  3380  \n",
      "381  nyt_93195697       nan   positive  test                nan  3381  \n",
      "<class 'pandas.core.frame.DataFrame'>\n",
      "RangeIndex: 382 entries, 0 to 381\n",
      "Data columns (total 8 columns):\n",
      " #   Column              Non-Null Count  Dtype \n",
      "---  ------              --------------  ----- \n",
      " 0   text                382 non-null    object\n",
      " 1   labels              382 non-null    object\n",
      " 2   articleid           382 non-null    object\n",
      " 3   relevance           382 non-null    object\n",
      " 4   positivity          382 non-null    object\n",
      " 5   split               382 non-null    object\n",
      " 6   positivity_rounded  382 non-null    object\n",
      " 7   idx                 382 non-null    int64 \n",
      "dtypes: int64(1), object(7)\n",
      "memory usage: 24.0+ KB\n",
      "None\n"
     ]
    }
   ],
   "source": [
    "DATASETS = '~/datasets/sentiment_economy_news/'\n",
    "\n",
    "train = pd.read_parquet(DATASETS + 'train.parquet', engine='pyarrow')\n",
    "test  = pd.read_parquet(DATASETS + 'test.parquet', engine='pyarrow')\n",
    "\n",
    "print(train.tail())\n",
    "print(train.info())\n",
    "\n",
    "print(test.tail())\n",
    "print(test.info())"
   ]
  },
  {
   "cell_type": "markdown",
   "metadata": {},
   "source": [
    "#### Create a classifier model"
   ]
  },
  {
   "cell_type": "code",
   "execution_count": 7,
   "metadata": {},
   "outputs": [],
   "source": [
    "from sklearn.feature_extraction.text import CountVectorizer\n",
    "from sklearn.feature_extraction.text import TfidfTransformer\n",
    "from sklearn.naive_bayes import GaussianNB\n",
    "from sklearn.pipeline import Pipeline\n",
    "\n",
    "X_train = train['text']\n",
    "X_test = test['text']\n",
    "\n",
    "Y_train = pd.Categorical(train['labels'])\n",
    "Y_test = pd.Categorical(test['labels'])\n",
    "labels = Y_train.categories\n",
    "\n",
    "vectorizer = CountVectorizer()\n",
    "\n",
    "X_train_tokens = vectorizer.fit_transform(train[\"text\"])\n",
    "\n",
    "transformer = TfidfTransformer()\n",
    "\n",
    "X_train_tf = transformer.fit_transform(X_train_tokens)\n",
    "\n",
    "#title_clf = GaussianNB().fit(X_train_tf.toarray(), Y_train)\n",
    "\n",
    "#title_clf = Pipeline([\n",
    "#    ('vect', CountVectorizer()),\n",
    "#    ('tfidf', TfidfTransformer()),\n",
    "#    ('clf', GaussianNB()),\n",
    "#])"
   ]
  },
  {
   "cell_type": "markdown",
   "metadata": {},
   "source": [
    "#### Train model"
   ]
  },
  {
   "cell_type": "code",
   "execution_count": 8,
   "metadata": {},
   "outputs": [],
   "source": [
    "title_clf = GaussianNB().fit(X_train_tf.toarray(), Y_train)"
   ]
  },
  {
   "cell_type": "markdown",
   "metadata": {},
   "source": [
    "#### Evaluate Model"
   ]
  },
  {
   "cell_type": "code",
   "execution_count": 9,
   "metadata": {},
   "outputs": [
    {
     "name": "stdout",
     "output_type": "stream",
     "text": [
      "              precision    recall  f1-score   support\n",
      "\n",
      "    negative       0.62      0.78      0.69       241\n",
      "    positive       0.34      0.19      0.24       141\n",
      "\n",
      "    accuracy                           0.56       382\n",
      "   macro avg       0.48      0.49      0.47       382\n",
      "weighted avg       0.52      0.56      0.53       382\n",
      "\n"
     ]
    }
   ],
   "source": [
    "\n",
    "from sklearn.metrics import classification_report\n",
    "\n",
    "X_test_tokens = vectorizer.transform(test['text'])\n",
    "X_test_tf = transformer.transform(X_test_tokens)\n",
    "\n",
    "predicted = title_clf.predict(X_test_tf.toarray())\n",
    "\n",
    "print(classification_report(Y_test, predicted, target_names=labels))"
   ]
  },
  {
   "cell_type": "markdown",
   "metadata": {},
   "source": [
    "#### Plot a bar chart on predicted labels for testing data"
   ]
  },
  {
   "cell_type": "code",
   "execution_count": 10,
   "metadata": {},
   "outputs": [
    {
     "data": {
      "image/png": "[encoded data removed]",
      "text/plain": [
       "<Figure size 640x480 with 1 Axes>"
      ]
     },
     "metadata": {},
     "output_type": "display_data"
    }
   ],
   "source": [
    "import matplotlib.pyplot as plt \n",
    "from collections import Counter\n",
    "\n",
    "label_counts = Counter(predicted)\n",
    "\n",
    "# Extract labels and counts as separate lists\n",
    "labels = list(label_counts.keys())\n",
    "counts = list(label_counts.values())\n",
    "\n",
    "# Create a bar chart\n",
    "plt.bar(labels, counts)\n",
    "plt.xlabel('Predicted Labels')\n",
    "plt.ylabel('Count')\n",
    "plt.title('Predicted Label Counts')\n",
    "plt.xticks(rotation=45)  # Rotate x-axis labels for better readability\n",
    "plt.show()"
   ]
  },
  {
   "cell_type": "markdown",
   "metadata": {},
   "source": [
    "## Evaluate model on aggregated news sources"
   ]
  },
  {
   "cell_type": "code",
   "execution_count": 15,
   "metadata": {},
   "outputs": [
    {
     "name": "stdout",
     "output_type": "stream",
     "text": [
      "                                                 Title      Tags       Date  \\\n",
      "0    EU Migration: Macron, Scholz, Orban, Sunak Fig...        [] 2023-10-06   \n",
      "1    Larry Summers Says Fed's Rate Hikes May Not Be...      [US] 2023-10-06   \n",
      "2    BYD to Stick to Europe Growth Plans Despite Su...  [Europe] 2023-10-07   \n",
      "3    Treasuries Tumble as US Payroll Growth Blows P...      [US] 2023-10-06   \n",
      "4    Turkey Vows to Build Reserves as IMF Sees Slow...        [] 2023-10-07   \n",
      "..                                                 ...       ...        ...   \n",
      "264              G20 Session III - European Commission  [Europe] 2023-09-10   \n",
      "265  European think tank calls for mandatory EU alc...  [Europe] 2023-09-18   \n",
      "266  CAPS-EU: Building Capacity for Private Sponsor...        [] 2023-09-16   \n",
      "267  EU climate commissioner: MEPs mull rejecting n...        [] 2023-09-12   \n",
      "268  Horizon Europe grants €166m to boost EU space ...  [Europe] 2023-09-08   \n",
      "\n",
      "       labels  \n",
      "0    negative  \n",
      "1    positive  \n",
      "2    negative  \n",
      "3    positive  \n",
      "4    negative  \n",
      "..        ...  \n",
      "264  positive  \n",
      "265  positive  \n",
      "266  negative  \n",
      "267  positive  \n",
      "268  positive  \n",
      "\n",
      "[269 rows x 4 columns]\n"
     ]
    },
    {
     "data": {
      "image/png": "[encoded data removed]",
      "text/plain": [
       "<Figure size 640x480 with 1 Axes>"
      ]
     },
     "metadata": {},
     "output_type": "display_data"
    }
   ],
   "source": [
    "X_titles = df['Title']\n",
    "\n",
    "X_titles_tokens = vectorizer.transform(X_titles)\n",
    "X_titles_tf = transformer.transform(X_titles_tokens)\n",
    "\n",
    "Y_predict = title_clf.predict(X_titles_tf.toarray())\n",
    "\n",
    "df['labels'] = Y_predict\n",
    "\n",
    "print(df)\n",
    "\n",
    "label_counts = Counter(Y_predict)\n",
    "\n",
    "# Extract labels and counts as separate lists\n",
    "labels = list(label_counts.keys())\n",
    "counts = list(label_counts.values())\n",
    "\n",
    "# Create a bar chart\n",
    "plt.bar(labels, counts)\n",
    "plt.xlabel('Predicted Labels')\n",
    "plt.ylabel('Count')\n",
    "plt.title('Predicted Label Counts')\n",
    "plt.xticks(rotation=45)  # Rotate x-axis labels for better readability\n",
    "plt.show()"
   ]
  }
 ],
 "metadata": {
  "kernelspec": {
   "display_name": "Python 3",
   "language": "python",
   "name": "python3"
  },
  "language_info": {
   "codemirror_mode": {
    "name": "ipython",
    "version": 3
   },
   "file_extension": ".py",
   "mimetype": "text/x-python",
   "name": "python",
   "nbconvert_exporter": "python",
   "pygments_lexer": "ipython3",
   "version": "3.11.2"
  },
  "orig_nbformat": 4
 },
 "nbformat": 4,
 "nbformat_minor": 2
}
