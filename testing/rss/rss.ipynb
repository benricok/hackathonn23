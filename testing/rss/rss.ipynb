{
 "cells": [
  {
   "cell_type": "markdown",
   "metadata": {},
   "source": [
    "# RSS"
   ]
  },
  {
   "cell_type": "code",
   "execution_count": 1,
   "metadata": {},
   "outputs": [],
   "source": [
    "import feedparser\n",
    "from datetime import datetime\n",
    "\n",
    "DATA_PATH='/home/bkadmin/datasets/spatialedge-hackathon-H1/v1/' \n",
    "FROM_DATE='20200101'\n",
    "TO_DATE='20221231'\n",
    "SYMBOL = 'EURUSD'\n",
    "TIMEFRAME = 'H1'"
   ]
  },
  {
   "cell_type": "markdown",
   "metadata": {},
   "source": [
    "### Pull feed from google News"
   ]
  },
  {
   "cell_type": "code",
   "execution_count": 2,
   "metadata": {},
   "outputs": [
    {
     "name": "stdout",
     "output_type": "stream",
     "text": [
      "Number of RSS posts : 100\n"
     ]
    }
   ],
   "source": [
    "feed = feedparser.parse(\"https://news.google.com/rss/search?q=central+bank+US+EU+site%3Abloomberg.com+when%3A1d&hl=en-ZA&gl=ZA&ceid=ZA%3Aen\")\n",
    "\n",
    "print('Number of RSS posts :', len(feed.entries))"
   ]
  },
  {
   "cell_type": "markdown",
   "metadata": {},
   "source": [
    "### Exstract Titles and publish dates"
   ]
  },
  {
   "cell_type": "code",
   "execution_count": 3,
   "metadata": {},
   "outputs": [],
   "source": [
    "titles = []\n",
    "dates = []\n",
    "\n",
    "for post in feed.entries:\n",
    "    title = post.title\n",
    "    date = post.published\n",
    "    titles.append(title.replace(' - Bloomberg', ''))\n",
    "    dates.append(datetime.strptime(date, '%a, %d %b %Y %X %Z').date())"
   ]
  },
  {
   "cell_type": "markdown",
   "metadata": {},
   "source": [
    "### Exstract tags from titles"
   ]
  },
  {
   "cell_type": "code",
   "execution_count": 6,
   "metadata": {},
   "outputs": [
    {
     "name": "stdout",
     "output_type": "stream",
     "text": [
      "[[], [], [], [], [], [], [], [], [], [], [], [], [], [], [], [], [], [], [], [], [], [], [], [], [], [], [], [], [], [], [], [], [], [], [], [], [], [], [], [], [], [], [], [], [], [], [], [], [], [], [], [], [], [], [], [], [], [], [], [], [], [], [], [], [], [], [], [], [], [], [], [], [], [], [], [], [], [], [], [], [], [], [], [], [], [], [], [], [], [], [], [], [], [], [], [], [], [], [], []]\n"
     ]
    }
   ],
   "source": [
    "if SYMBOL == 'EURUSD':\n",
    "    search = ['US', 'EU', 'Europe']\n",
    "else:\n",
    "    search = []\n",
    "\n",
    "tags_in_title = []\n",
    "for title in titles:\n",
    "    tags = []\n",
    "    for tag in search:\n",
    "        if tag.lower() in title.lower(): tags+=[tag]\n",
    "    tags_in_title += [tags]\n",
    "\n",
    "print(tags_in_title)"
   ]
  },
  {
   "cell_type": "markdown",
   "metadata": {},
   "source": [
    "### Create Dataframe"
   ]
  },
  {
   "cell_type": "code",
   "execution_count": 5,
   "metadata": {},
   "outputs": [
    {
     "name": "stdout",
     "output_type": "stream",
     "text": [
      "<class 'pandas.core.frame.DataFrame'>\n",
      "RangeIndex: 100 entries, 0 to 99\n",
      "Data columns (total 3 columns):\n",
      " #   Column  Non-Null Count  Dtype         \n",
      "---  ------  --------------  -----         \n",
      " 0   Title   100 non-null    object        \n",
      " 1   Tags    100 non-null    object        \n",
      " 2   Date    100 non-null    datetime64[ns]\n",
      "dtypes: datetime64[ns](1), object(2)\n",
      "memory usage: 2.5+ KB\n",
      "                                                Title  Tags       Date\n",
      "0   Larry Summers Says Fed's Rate Hikes May Not Be...    [] 2023-10-06\n",
      "1   Treasuries Tumble as US Payroll Growth Blows P...  [US] 2023-10-06\n",
      "2                                       Bloomberg.com    [] 2009-07-18\n",
      "3   Trader Bets Big on VIX Spike Hours Before Blow...    [] 2023-10-06\n",
      "4   'Something Is Likely to Break' After Jobs Data...    [] 2023-10-06\n",
      "..                                                ...   ...        ...\n",
      "95  Hedge Funds Began Dumping Bullish Oil Bets Ahe...    [] 2023-10-06\n",
      "96  India Central Bank Strikes Hawkish Tone, Fueli...    [] 2023-10-06\n",
      "97  Exxon (XOM) Moves on Pioneer (PXD) as Big Oil'...    [] 2023-10-06\n",
      "98  Bored Ape NFTs Creator Yuga Labs Joins In on C...    [] 2023-10-06\n",
      "99  Your Evening Briefing: Another Unexpected Surg...  [US] 2023-10-06\n",
      "\n",
      "[100 rows x 3 columns]\n"
     ]
    }
   ],
   "source": [
    "import pandas as pd\n",
    "\n",
    "df = pd.DataFrame({'Title': titles,'Tags': tags_in_title,'Date': pd.to_datetime(dates)})\n",
    "\n",
    "df.info()\n",
    "print(df)"
   ]
  }
 ],
 "metadata": {
  "kernelspec": {
   "display_name": "Python 3",
   "language": "python",
   "name": "python3"
  },
  "language_info": {
   "codemirror_mode": {
    "name": "ipython",
    "version": 3
   },
   "file_extension": ".py",
   "mimetype": "text/x-python",
   "name": "python",
   "nbconvert_exporter": "python",
   "pygments_lexer": "ipython3",
   "version": "3.11.2"
  },
  "orig_nbformat": 4
 },
 "nbformat": 4,
 "nbformat_minor": 2
}
